{
 "cells": [
  {
   "cell_type": "code",
   "execution_count": 1,
   "metadata": {},
   "outputs": [
    {
     "name": "stdout",
     "output_type": "stream",
     "text": [
      "hello world\n"
     ]
    },
    {
     "data": {
      "text/plain": [
       "['hello', 'world']"
      ]
     },
     "execution_count": 1,
     "metadata": {},
     "output_type": "execute_result"
    }
   ],
   "source": [
    "# 字节跳动今日头条数据分析师面试题： 翻转字符串\n",
    "a = input()\n",
    "a"
   ]
  },
  {
   "cell_type": "code",
   "execution_count": 33,
   "metadata": {},
   "outputs": [
    {
     "name": "stdout",
     "output_type": "stream",
     "text": [
      "h e l l o   w o r l d "
     ]
    }
   ],
   "source": [
    "for i in range(len(a)):\n",
    "    print(a[i][::-1],end = ' ')\n"
   ]
  },
  {
   "cell_type": "code",
   "execution_count": 1,
   "metadata": {},
   "outputs": [
    {
     "data": {
      "text/plain": [
       "'olleh dlrow'"
      ]
     },
     "execution_count": 1,
     "metadata": {},
     "output_type": "execute_result"
    }
   ],
   "source": [
    "class stack():\n",
    "    data = []\n",
    "    size = 0\n",
    "    def __init__(self):\n",
    "        data = []\n",
    "        size = 0\n",
    "    def push(self, e):\n",
    "        self.data.append(e)\n",
    "        self.size += 1\n",
    "    def pop(self):\n",
    "        if self.size == 0:\n",
    "            raise Exception('This stack is empty')\n",
    "        else:\n",
    "            self.size -= 1\n",
    "            return self.data.pop()\n",
    "    def is_empty(self):\n",
    "        return self.size == 0\n",
    "def char_reverse(ch):\n",
    "    if not isinstance(ch, str):\n",
    "        raise Exception('This is not a string')\n",
    "    else:\n",
    "        stk = stack()\n",
    "        result = []\n",
    "        for i in range(len(ch)):\n",
    "            if ch[i].isalpha():\n",
    "                stk.push(ch[i])\n",
    "            elif not ch[i].isalpha() and stk.is_empty():\n",
    "                result.append(ch[i])\n",
    "            elif not ch[i].isalpha() and not stk.is_empty():\n",
    "                while not stk.is_empty():\n",
    "                    result.append(stk.pop())\n",
    "                result.append(ch[i])\n",
    "        while not stk.is_empty():\n",
    "            result.append(stk.pop())\n",
    "        return result\n",
    "a = 'hello world'\n",
    "''.join(char_reverse(a))\n",
    "\n"
   ]
  },
  {
   "cell_type": "code",
   "execution_count": 37,
   "metadata": {},
   "outputs": [
    {
     "data": {
      "text/plain": [
       "1"
      ]
     },
     "execution_count": 37,
     "metadata": {},
     "output_type": "execute_result"
    }
   ],
   "source": [
    "#####字节跳动2018校招大数据方向（第二批）：用户喜好\n",
    "\n",
    "def fav(lis, l, r, k):\n",
    "    mylis = lis[l-1:r]\n",
    "    return mylis.count(k)\n"
   ]
  },
  {
   "cell_type": "code",
   "execution_count": 31,
   "metadata": {},
   "outputs": [
    {
     "name": "stdout",
     "output_type": "stream",
     "text": [
      "5\n",
      "1 2 3 4 5\n",
      "3\n",
      "1 3 2\n",
      "1 4 2\n",
      "2 4 3\n",
      "1\n",
      "1\n",
      "1\n"
     ]
    }
   ],
   "source": [
    "n = int(input())\n",
    "lis = input().split(' ')\n",
    "lis = [int(i) for i in lis]\n",
    "q = int(input())\n",
    "a = []\n",
    "for i in range(q):\n",
    "    tem = input().split()\n",
    "    tem = list(map(int, tem))\n",
    "    a.append(tem)\n",
    "for i in range(q):\n",
    "    print(fav(lis,a[i][0],a[i][1],a[i][2]))\n",
    "\n"
   ]
  },
  {
   "cell_type": "code",
   "execution_count": null,
   "metadata": {},
   "outputs": [],
   "source": []
  }
 ],
 "metadata": {
  "kernelspec": {
   "display_name": "Python 3",
   "language": "python",
   "name": "python3"
  },
  "language_info": {
   "codemirror_mode": {
    "name": "ipython",
    "version": 3
   },
   "file_extension": ".py",
   "mimetype": "text/x-python",
   "name": "python",
   "nbconvert_exporter": "python",
   "pygments_lexer": "ipython3",
   "version": "3.7.6"
  }
 },
 "nbformat": 4,
 "nbformat_minor": 4
}
