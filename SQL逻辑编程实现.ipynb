{
 "cells": [
  {
   "cell_type": "code",
   "execution_count": 1,
   "metadata": {},
   "outputs": [
    {
     "data": {
      "text/html": [
       "<div>\n",
       "<style scoped>\n",
       "    .dataframe tbody tr th:only-of-type {\n",
       "        vertical-align: middle;\n",
       "    }\n",
       "\n",
       "    .dataframe tbody tr th {\n",
       "        vertical-align: top;\n",
       "    }\n",
       "\n",
       "    .dataframe thead th {\n",
       "        text-align: right;\n",
       "    }\n",
       "</style>\n",
       "<table border=\"1\" class=\"dataframe\">\n",
       "  <thead>\n",
       "    <tr style=\"text-align: right;\">\n",
       "      <th></th>\n",
       "      <th>date</th>\n",
       "      <th>dcity</th>\n",
       "      <th>acity</th>\n",
       "      <th>flightagency</th>\n",
       "      <th>rnk</th>\n",
       "    </tr>\n",
       "  </thead>\n",
       "  <tbody>\n",
       "    <tr>\n",
       "      <th>3</th>\n",
       "      <td>20210303</td>\n",
       "      <td>Cambridge</td>\n",
       "      <td>NewYork</td>\n",
       "      <td>cc</td>\n",
       "      <td>1.0</td>\n",
       "    </tr>\n",
       "    <tr>\n",
       "      <th>2</th>\n",
       "      <td>20210101</td>\n",
       "      <td>Boston</td>\n",
       "      <td>Massachuset</td>\n",
       "      <td>aa</td>\n",
       "      <td>1.0</td>\n",
       "    </tr>\n",
       "    <tr>\n",
       "      <th>0</th>\n",
       "      <td>20200301</td>\n",
       "      <td>Newyork</td>\n",
       "      <td>California</td>\n",
       "      <td>bb</td>\n",
       "      <td>1.0</td>\n",
       "    </tr>\n",
       "    <tr>\n",
       "      <th>1</th>\n",
       "      <td>20200301</td>\n",
       "      <td>Newyork</td>\n",
       "      <td>California</td>\n",
       "      <td>ee</td>\n",
       "      <td>2.0</td>\n",
       "    </tr>\n",
       "  </tbody>\n",
       "</table>\n",
       "</div>"
      ],
      "text/plain": [
       "       date      dcity        acity flightagency  rnk\n",
       "3  20210303  Cambridge      NewYork           cc  1.0\n",
       "2  20210101     Boston  Massachuset           aa  1.0\n",
       "0  20200301    Newyork   California           bb  1.0\n",
       "1  20200301    Newyork   California           ee  2.0"
      ]
     },
     "execution_count": 1,
     "metadata": {},
     "output_type": "execute_result"
    }
   ],
   "source": [
    "# SQL逻辑编程实现--携程数分笔试题2\n",
    "import pandas as pd\n",
    "import numpy as np\n",
    "a = ['20210101','20200301','20210303','20200301','20200301']\n",
    "b = ['Boston', 'Newyork', 'Cambridge','Newyork','Newyork']\n",
    "c = ['Massachuset', 'California', 'NewYork', 'California', 'California']\n",
    "d = ['aa','bb','cc','bb','ee']\n",
    "e = ['20iasf','asfa1','1r3fa','afa13','afa']\n",
    "df = pd.DataFrame([a,b,c,d,e]).T\n",
    "df.columns=['date','dcity','acity','flightagency', 'oderid']\n",
    "# df: date, dcity, acity, flightagency, orderid\n",
    "def orcnt(df):\n",
    "    df = df.groupby(by = ['date', 'dcity', 'acity', 'flightagency']).count().reset_index()\n",
    "    df.columns = ['date', 'dcity', 'acity', 'flightagency', 'order_cnt']\n",
    "    df['rnk'] = df['order_cnt'].groupby([df['date'], df['dcity'], df['acity']]).rank(ascending = False)\n",
    "    df = df[df['rnk']<=3]\n",
    "    df = df[['date', 'dcity','acity','flightagency', 'rnk']]\n",
    "    df = df.sort_values(by = 'acity', ascending = False).sort_values(by = 'rnk')\n",
    "    return df\n",
    "orcnt(df)"
   ]
  },
  {
   "cell_type": "code",
   "execution_count": null,
   "metadata": {},
   "outputs": [],
   "source": []
  }
 ],
 "metadata": {
  "kernelspec": {
   "display_name": "Python 3",
   "language": "python",
   "name": "python3"
  },
  "language_info": {
   "codemirror_mode": {
    "name": "ipython",
    "version": 3
   },
   "file_extension": ".py",
   "mimetype": "text/x-python",
   "name": "python",
   "nbconvert_exporter": "python",
   "pygments_lexer": "ipython3",
   "version": "3.7.6"
  }
 },
 "nbformat": 4,
 "nbformat_minor": 4
}
